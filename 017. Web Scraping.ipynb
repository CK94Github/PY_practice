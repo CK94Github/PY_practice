{
 "cells": [
  {
   "cell_type": "code",
   "execution_count": null,
   "id": "661e8b66",
   "metadata": {},
   "outputs": [],
   "source": [
    "!pip install beautifulsoup4 requests html5lib"
   ]
  },
  {
   "cell_type": "code",
   "execution_count": null,
   "id": "1a48f405",
   "metadata": {},
   "outputs": [],
   "source": [
    "url = 'https://www.itvedant.com/'"
   ]
  },
  {
   "cell_type": "code",
   "execution_count": null,
   "id": "3773ef06",
   "metadata": {},
   "outputs": [],
   "source": [
    "import requests\n",
    "response = requests.get(url)\n",
    "response"
   ]
  },
  {
   "cell_type": "code",
   "execution_count": null,
   "id": "01d6ea32",
   "metadata": {},
   "outputs": [],
   "source": [
    "from bs4 import BeautifulSoup\n",
    "soup = BeautifulSoup(response.content, \n",
    "                     'html.parser')\n",
    "soup"
   ]
  },
  {
   "cell_type": "code",
   "execution_count": null,
   "id": "d0e79924",
   "metadata": {},
   "outputs": [],
   "source": [
    "soup.find_all('div')"
   ]
  },
  {
   "cell_type": "code",
   "execution_count": null,
   "id": "361f8e47",
   "metadata": {},
   "outputs": [],
   "source": [
    "soup.find('div')"
   ]
  },
  {
   "cell_type": "code",
   "execution_count": null,
   "id": "b5d9994a",
   "metadata": {},
   "outputs": [],
   "source": [
    "div = soup.find('div', class_='container')\n",
    "div"
   ]
  },
  {
   "cell_type": "code",
   "execution_count": null,
   "id": "b75052b6",
   "metadata": {
    "scrolled": false
   },
   "outputs": [],
   "source": [
    "row = div.find('div', class_='row')\n",
    "row"
   ]
  },
  {
   "cell_type": "code",
   "execution_count": null,
   "id": "2e375b9e",
   "metadata": {},
   "outputs": [],
   "source": [
    "row.find_all('div')[3]"
   ]
  },
  {
   "cell_type": "code",
   "execution_count": null,
   "id": "8bcc5399",
   "metadata": {},
   "outputs": [],
   "source": [
    "div = row.find('div', class_='course-data')\n",
    "div"
   ]
  },
  {
   "cell_type": "code",
   "execution_count": null,
   "id": "2e0ac852",
   "metadata": {},
   "outputs": [],
   "source": [
    "course = div.find('h1')\n",
    "course.get_text()"
   ]
  },
  {
   "cell_type": "code",
   "execution_count": null,
   "id": "01d98e68",
   "metadata": {},
   "outputs": [],
   "source": [
    "divs = row.find_all('div', class_='course-data')\n",
    "divs"
   ]
  },
  {
   "cell_type": "code",
   "execution_count": null,
   "id": "0ac37154",
   "metadata": {},
   "outputs": [],
   "source": [
    "course_names = []\n",
    "for div in divs:\n",
    "    course = div.find('h1')\n",
    "    course_names.append(course.get_text())\n",
    "course_names"
   ]
  },
  {
   "cell_type": "code",
   "execution_count": null,
   "id": "47152852",
   "metadata": {},
   "outputs": [],
   "source": []
  }
 ],
 "metadata": {
  "kernelspec": {
   "display_name": "Python 3 (ipykernel)",
   "language": "python",
   "name": "python3"
  },
  "language_info": {
   "codemirror_mode": {
    "name": "ipython",
    "version": 3
   },
   "file_extension": ".py",
   "mimetype": "text/x-python",
   "name": "python",
   "nbconvert_exporter": "python",
   "pygments_lexer": "ipython3",
   "version": "3.9.13"
  }
 },
 "nbformat": 4,
 "nbformat_minor": 5
}
